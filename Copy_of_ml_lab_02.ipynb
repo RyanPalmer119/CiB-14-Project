{
  "cells": [
    {
      "cell_type": "markdown",
      "metadata": {
        "id": "view-in-github",
        "colab_type": "text"
      },
      "source": [
        "<a href=\"https://colab.research.google.com/github/RyanPalmer119/CiB-14-Project/blob/main/Copy_of_ml_lab_02.ipynb\" target=\"_parent\"><img src=\"https://colab.research.google.com/assets/colab-badge.svg\" alt=\"Open In Colab\"/></a>"
      ]
    },
    {
      "cell_type": "markdown",
      "metadata": {
        "id": "GbRuRzCRqXwr"
      },
      "source": [
        "# Machine Learning Lab 02\n",
        "\n",
        "For this lab, you can find sections for NumPy, Pandas, Matplotlib, Exploratory Data Analysis, and the optional Analysis of Anscombe's Quartet.\n",
        "\n",
        "Please add new cells for your code to expand this notebook (**File** --> **Insert**)"
      ]
    },
    {
      "cell_type": "markdown",
      "metadata": {
        "id": "poczVKchqXwt"
      },
      "source": [
        "## NumPy"
      ]
    },
    {
      "cell_type": "code",
      "execution_count": null,
      "metadata": {
        "id": "q8J-Vm9KqXwu",
        "outputId": "8d6ef771-3cee-4ac9-b435-fdabf2a48663",
        "colab": {
          "base_uri": "https://localhost:8080/"
        }
      },
      "outputs": [
        {
          "output_type": "stream",
          "name": "stdout",
          "text": [
            "[0. 1. 2. 3. 4. 3. 2. 1. 0. 3.]\n",
            "Matrix: [[1 3 3 7]\n",
            " [4 2 4 2]]\n",
            "3rd value (at index 2): 2\n",
            "Value at  (0, 2) = 3\n",
            "1st row = [1 3 3 7]\n",
            "2nd column = [3 2]\n",
            "2nd column (up to 1st row)= [3]\n",
            "0\n",
            "1\n",
            "2\n",
            "3\n",
            "4\n",
            "3\n",
            "2\n",
            "1\n",
            "0\n",
            "3\n",
            "0\n",
            "1\n",
            "2\n",
            "3\n",
            "4\n",
            "3\n",
            "2\n",
            "1\n",
            "0\n",
            "3\n",
            "[1 3 3 7]\n",
            "[4 2 4 2]\n",
            "0\n",
            "1\n",
            "2\n",
            "3\n",
            "4\n",
            "3\n",
            "2\n",
            "1\n",
            "0\n",
            "3\n",
            "0\n",
            "1\n",
            "2\n",
            "3\n",
            "4\n",
            "3\n",
            "2\n",
            "1\n",
            "0\n",
            "3\n",
            "Iterating over each elemnt, row by row\n",
            "1 3 3 7 4 2 4 2 Iterating over each element, using flatten function\n",
            "1 3 3 7 4 2 4 2 [ 0  1  2  3  4  5  6  7  8  9 10 11 12 13 14 15 16 17 18 19]\n",
            "[[0. 0.]\n",
            " [0. 0.]]\n",
            "[[1. 1. 1. 1.]\n",
            " [1. 1. 1. 1.]\n",
            " [1. 1. 1. 1.]\n",
            " [1. 1. 1. 1.]]\n",
            "[[nan nan nan]\n",
            " [nan nan nan]\n",
            " [nan nan nan]]\n",
            "[[1. 0. 0. 0. 0.]\n",
            " [0. 1. 0. 0. 0.]\n",
            " [0. 0. 1. 0. 0.]\n",
            " [0. 0. 0. 1. 0.]\n",
            " [0. 0. 0. 0. 1.]]\n",
            "[[0.71494193 0.77100365]\n",
            " [0.89198202 0.3871325 ]]\n"
          ]
        }
      ],
      "source": [
        "import numpy as np #imports numpy\n",
        "\n",
        "an_array = np.array([]) # creates array\n",
        "\n",
        "another_array = np.array([0,1,2,3,4,3,2,1,0,3]) # creates pre-populated array\n",
        "\n",
        "an_array = np.append(an_array, another_array) # adds another_array to an_array\n",
        "\n",
        "print(an_array) # prints content of array\n",
        "\n",
        "c = np.array([(1,3,3,7), (4,2,4,2)]) # creates matrix\n",
        "\n",
        "print('Matrix:',c) # prints matrix\n",
        "\n",
        "print('3rd value (at index 2):',another_array[2]) # prints the third value of array\n",
        "\n",
        "print(\"Value at  (0, 2) =\", c[0][2]) # prints specific element in reference to both the column and row of matrix\n",
        "\n",
        "print(\"1st row =\", c[0]) # prints the whole first row\n",
        "\n",
        "print(\"2nd column =\", c[:,1]) # prints all values in second column\n",
        "                              # note: the ':' signifying all values along a certain dimension (axis)\n",
        "\n",
        "print(\"2nd column (up to 1st row)=\", c[:1,1]) # prints 2nd column , 1st row value in matrix\n",
        "\n",
        "for i in range(another_array.size):\n",
        "  print(another_array[i]) # prints each item in array\n",
        "\n",
        "for value in another_array:\n",
        "  print(value) # another way to print each item in a vector\n",
        "\n",
        "for row in c:\n",
        "  print(row) # prints each item in matrix\n",
        "\n",
        "for i in range(another_array.size):\n",
        "  print(another_array[i]) # prints each item in array\n",
        "\n",
        "for value in another_array:\n",
        "  print(value) # prints each item in array\n",
        "\n",
        "print(\"Iterating over each elemnt, row by row\")\n",
        "for row in c:\n",
        "  for cell in row:\n",
        "    print(cell, end=' ') #prints each element in matrix\n",
        "\n",
        "print(\"Iterating over each element, using flatten function\")\n",
        "for cell in c.flatten():\n",
        "  print(cell, end= ' ') # Uses flattern function to print each element in matrix\n",
        "\n",
        "a = np.arange(20) # creates a vector with numbers 1-19\n",
        "print(a)\n",
        "\n",
        "b = np.zeros((2,2)) # create a 2x2 matrix of zeros\n",
        "print(b)\n",
        "\n",
        "c = np.ones((4,4)) # create a 4x4 matrix of ones\n",
        "print(c)\n",
        "\n",
        "d = np.full((3,3), np.nan) # create a 3x3 matrix of NaN\n",
        "print(d)\n",
        "\n",
        "e = np.eye(5) # creates a 5x5 identity matrix (is down the diagonal)\n",
        "print(e)\n",
        "\n",
        "f = np.random.random((2,2)) # create a 2x2 matrix of random numbers in the range [0,1]\n",
        "print(f)\n",
        "\n",
        "another_array[0] = 5 # set the value of the first element in the array to 5\n",
        "\n",
        "v = np.arange(4)\n",
        "print(\"v     =\", v)\n",
        "print(\"v + 5 =\", v + 5)\n",
        "print(\"v - 5 =\", v - 5)\n",
        "print(\"v * 2 =\", v * 2)\n",
        "print(\"v / 2 =\", v / 2) # arithmatics\n"
      ]
    },
    {
      "cell_type": "markdown",
      "metadata": {
        "id": "-3BrvaoLqXwu"
      },
      "source": [
        "## SciPy"
      ]
    },
    {
      "cell_type": "code",
      "execution_count": null,
      "metadata": {
        "id": "9z7GS5eqqXwu",
        "colab": {
          "base_uri": "https://localhost:8080/"
        },
        "outputId": "ce1cb223-c609-4522-97ed-d398d28929fd"
      },
      "outputs": [
        {
          "output_type": "stream",
          "name": "stdout",
          "text": [
            "\n",
            "Descriptive statistics:\n",
            "\tshape = (10,)\n",
            "\tsize = 10\n",
            "\tmin = 0\n",
            "\tmax = 4\n",
            "\tmean = 1.9\n",
            "\tmedian = 2.0\n",
            "\tmode = 3  ( ModeResult(mode=3, count=3) )\n",
            "\tvariance = 1.69\n",
            "\tstandard_deviation = 1.3\n"
          ]
        }
      ],
      "source": [
        "from scipy import stats\n",
        "\n",
        "print(\"\\nDescriptive statistics:\")\n",
        "print(\"\\tshape =\", another_array.shape)\n",
        "print(\"\\tsize =\", another_array.size)\n",
        "print(\"\\tmin =\", another_array.min())\n",
        "print(\"\\tmax =\", another_array.max())\n",
        "print(\"\\tmean =\", another_array.mean()) # can also use np.mean(another_array)\n",
        "print(\"\\tmedian =\", np.median(another_array)) # can also use another_array.median()\n",
        "print(\"\\tmode =\", stats.mode(another_array)[0],\" (\",stats.mode(another_array),\")\")\n",
        "print(\"\\tvariance =\", np.var(another_array))\n",
        "print(\"\\tstandard_deviation =\", np.std(another_array))"
      ]
    },
    {
      "cell_type": "markdown",
      "metadata": {
        "id": "rpGbgnrXqXwv"
      },
      "source": [
        "## Pandas"
      ]
    },
    {
      "cell_type": "code",
      "execution_count": 10,
      "metadata": {
        "id": "8QjNRjWjqXwv",
        "colab": {
          "base_uri": "https://localhost:8080/",
          "height": 390
        },
        "outputId": "7418873f-5700-4ffd-8d5c-81ca25e07e7a"
      },
      "outputs": [
        {
          "output_type": "error",
          "ename": "FileNotFoundError",
          "evalue": "ignored",
          "traceback": [
            "\u001b[0;31m---------------------------------------------------------------------------\u001b[0m",
            "\u001b[0;31mFileNotFoundError\u001b[0m                         Traceback (most recent call last)",
            "\u001b[0;32m<ipython-input-10-37095c5df440>\u001b[0m in \u001b[0;36m<cell line: 22>\u001b[0;34m()\u001b[0m\n\u001b[1;32m     20\u001b[0m \u001b[0mpurchases_dataframe\u001b[0m \u001b[0;31m# will print in Juypter notebook with nice formatting (but only when the last line in the cell)\u001b[0m\u001b[0;34m\u001b[0m\u001b[0;34m\u001b[0m\u001b[0m\n\u001b[1;32m     21\u001b[0m \u001b[0;34m\u001b[0m\u001b[0m\n\u001b[0;32m---> 22\u001b[0;31m \u001b[0mdataset\u001b[0m \u001b[0;34m=\u001b[0m \u001b[0mpd\u001b[0m\u001b[0;34m.\u001b[0m\u001b[0mread_csv\u001b[0m\u001b[0;34m(\u001b[0m\u001b[0;34m'data/ml-assessment-dataset.csv'\u001b[0m\u001b[0;34m)\u001b[0m\u001b[0;34m\u001b[0m\u001b[0;34m\u001b[0m\u001b[0m\n\u001b[0m\u001b[1;32m     23\u001b[0m \u001b[0;34m\u001b[0m\u001b[0m\n\u001b[1;32m     24\u001b[0m \u001b[0mdataset\u001b[0m\u001b[0;34m.\u001b[0m\u001b[0mhead\u001b[0m\u001b[0;34m(\u001b[0m\u001b[0;34m)\u001b[0m \u001b[0;31m# displays the header and top half of the dataset\u001b[0m\u001b[0;34m\u001b[0m\u001b[0;34m\u001b[0m\u001b[0m\n",
            "\u001b[0;32m/usr/local/lib/python3.10/dist-packages/pandas/util/_decorators.py\u001b[0m in \u001b[0;36mwrapper\u001b[0;34m(*args, **kwargs)\u001b[0m\n\u001b[1;32m    209\u001b[0m                 \u001b[0;32melse\u001b[0m\u001b[0;34m:\u001b[0m\u001b[0;34m\u001b[0m\u001b[0;34m\u001b[0m\u001b[0m\n\u001b[1;32m    210\u001b[0m                     \u001b[0mkwargs\u001b[0m\u001b[0;34m[\u001b[0m\u001b[0mnew_arg_name\u001b[0m\u001b[0;34m]\u001b[0m \u001b[0;34m=\u001b[0m \u001b[0mnew_arg_value\u001b[0m\u001b[0;34m\u001b[0m\u001b[0;34m\u001b[0m\u001b[0m\n\u001b[0;32m--> 211\u001b[0;31m             \u001b[0;32mreturn\u001b[0m \u001b[0mfunc\u001b[0m\u001b[0;34m(\u001b[0m\u001b[0;34m*\u001b[0m\u001b[0margs\u001b[0m\u001b[0;34m,\u001b[0m \u001b[0;34m**\u001b[0m\u001b[0mkwargs\u001b[0m\u001b[0;34m)\u001b[0m\u001b[0;34m\u001b[0m\u001b[0;34m\u001b[0m\u001b[0m\n\u001b[0m\u001b[1;32m    212\u001b[0m \u001b[0;34m\u001b[0m\u001b[0m\n\u001b[1;32m    213\u001b[0m         \u001b[0;32mreturn\u001b[0m \u001b[0mcast\u001b[0m\u001b[0;34m(\u001b[0m\u001b[0mF\u001b[0m\u001b[0;34m,\u001b[0m \u001b[0mwrapper\u001b[0m\u001b[0;34m)\u001b[0m\u001b[0;34m\u001b[0m\u001b[0;34m\u001b[0m\u001b[0m\n",
            "\u001b[0;32m/usr/local/lib/python3.10/dist-packages/pandas/util/_decorators.py\u001b[0m in \u001b[0;36mwrapper\u001b[0;34m(*args, **kwargs)\u001b[0m\n\u001b[1;32m    329\u001b[0m                     \u001b[0mstacklevel\u001b[0m\u001b[0;34m=\u001b[0m\u001b[0mfind_stack_level\u001b[0m\u001b[0;34m(\u001b[0m\u001b[0;34m)\u001b[0m\u001b[0;34m,\u001b[0m\u001b[0;34m\u001b[0m\u001b[0;34m\u001b[0m\u001b[0m\n\u001b[1;32m    330\u001b[0m                 )\n\u001b[0;32m--> 331\u001b[0;31m             \u001b[0;32mreturn\u001b[0m \u001b[0mfunc\u001b[0m\u001b[0;34m(\u001b[0m\u001b[0;34m*\u001b[0m\u001b[0margs\u001b[0m\u001b[0;34m,\u001b[0m \u001b[0;34m**\u001b[0m\u001b[0mkwargs\u001b[0m\u001b[0;34m)\u001b[0m\u001b[0;34m\u001b[0m\u001b[0;34m\u001b[0m\u001b[0m\n\u001b[0m\u001b[1;32m    332\u001b[0m \u001b[0;34m\u001b[0m\u001b[0m\n\u001b[1;32m    333\u001b[0m         \u001b[0;31m# error: \"Callable[[VarArg(Any), KwArg(Any)], Any]\" has no\u001b[0m\u001b[0;34m\u001b[0m\u001b[0;34m\u001b[0m\u001b[0m\n",
            "\u001b[0;32m/usr/local/lib/python3.10/dist-packages/pandas/io/parsers/readers.py\u001b[0m in \u001b[0;36mread_csv\u001b[0;34m(filepath_or_buffer, sep, delimiter, header, names, index_col, usecols, squeeze, prefix, mangle_dupe_cols, dtype, engine, converters, true_values, false_values, skipinitialspace, skiprows, skipfooter, nrows, na_values, keep_default_na, na_filter, verbose, skip_blank_lines, parse_dates, infer_datetime_format, keep_date_col, date_parser, dayfirst, cache_dates, iterator, chunksize, compression, thousands, decimal, lineterminator, quotechar, quoting, doublequote, escapechar, comment, encoding, encoding_errors, dialect, error_bad_lines, warn_bad_lines, on_bad_lines, delim_whitespace, low_memory, memory_map, float_precision, storage_options)\u001b[0m\n\u001b[1;32m    948\u001b[0m     \u001b[0mkwds\u001b[0m\u001b[0;34m.\u001b[0m\u001b[0mupdate\u001b[0m\u001b[0;34m(\u001b[0m\u001b[0mkwds_defaults\u001b[0m\u001b[0;34m)\u001b[0m\u001b[0;34m\u001b[0m\u001b[0;34m\u001b[0m\u001b[0m\n\u001b[1;32m    949\u001b[0m \u001b[0;34m\u001b[0m\u001b[0m\n\u001b[0;32m--> 950\u001b[0;31m     \u001b[0;32mreturn\u001b[0m \u001b[0m_read\u001b[0m\u001b[0;34m(\u001b[0m\u001b[0mfilepath_or_buffer\u001b[0m\u001b[0;34m,\u001b[0m \u001b[0mkwds\u001b[0m\u001b[0;34m)\u001b[0m\u001b[0;34m\u001b[0m\u001b[0;34m\u001b[0m\u001b[0m\n\u001b[0m\u001b[1;32m    951\u001b[0m \u001b[0;34m\u001b[0m\u001b[0m\n\u001b[1;32m    952\u001b[0m \u001b[0;34m\u001b[0m\u001b[0m\n",
            "\u001b[0;32m/usr/local/lib/python3.10/dist-packages/pandas/io/parsers/readers.py\u001b[0m in \u001b[0;36m_read\u001b[0;34m(filepath_or_buffer, kwds)\u001b[0m\n\u001b[1;32m    603\u001b[0m \u001b[0;34m\u001b[0m\u001b[0m\n\u001b[1;32m    604\u001b[0m     \u001b[0;31m# Create the parser.\u001b[0m\u001b[0;34m\u001b[0m\u001b[0;34m\u001b[0m\u001b[0m\n\u001b[0;32m--> 605\u001b[0;31m     \u001b[0mparser\u001b[0m \u001b[0;34m=\u001b[0m \u001b[0mTextFileReader\u001b[0m\u001b[0;34m(\u001b[0m\u001b[0mfilepath_or_buffer\u001b[0m\u001b[0;34m,\u001b[0m \u001b[0;34m**\u001b[0m\u001b[0mkwds\u001b[0m\u001b[0;34m)\u001b[0m\u001b[0;34m\u001b[0m\u001b[0;34m\u001b[0m\u001b[0m\n\u001b[0m\u001b[1;32m    606\u001b[0m \u001b[0;34m\u001b[0m\u001b[0m\n\u001b[1;32m    607\u001b[0m     \u001b[0;32mif\u001b[0m \u001b[0mchunksize\u001b[0m \u001b[0;32mor\u001b[0m \u001b[0miterator\u001b[0m\u001b[0;34m:\u001b[0m\u001b[0;34m\u001b[0m\u001b[0;34m\u001b[0m\u001b[0m\n",
            "\u001b[0;32m/usr/local/lib/python3.10/dist-packages/pandas/io/parsers/readers.py\u001b[0m in \u001b[0;36m__init__\u001b[0;34m(self, f, engine, **kwds)\u001b[0m\n\u001b[1;32m   1440\u001b[0m \u001b[0;34m\u001b[0m\u001b[0m\n\u001b[1;32m   1441\u001b[0m         \u001b[0mself\u001b[0m\u001b[0;34m.\u001b[0m\u001b[0mhandles\u001b[0m\u001b[0;34m:\u001b[0m \u001b[0mIOHandles\u001b[0m \u001b[0;34m|\u001b[0m \u001b[0;32mNone\u001b[0m \u001b[0;34m=\u001b[0m \u001b[0;32mNone\u001b[0m\u001b[0;34m\u001b[0m\u001b[0;34m\u001b[0m\u001b[0m\n\u001b[0;32m-> 1442\u001b[0;31m         \u001b[0mself\u001b[0m\u001b[0;34m.\u001b[0m\u001b[0m_engine\u001b[0m \u001b[0;34m=\u001b[0m \u001b[0mself\u001b[0m\u001b[0;34m.\u001b[0m\u001b[0m_make_engine\u001b[0m\u001b[0;34m(\u001b[0m\u001b[0mf\u001b[0m\u001b[0;34m,\u001b[0m \u001b[0mself\u001b[0m\u001b[0;34m.\u001b[0m\u001b[0mengine\u001b[0m\u001b[0;34m)\u001b[0m\u001b[0;34m\u001b[0m\u001b[0;34m\u001b[0m\u001b[0m\n\u001b[0m\u001b[1;32m   1443\u001b[0m \u001b[0;34m\u001b[0m\u001b[0m\n\u001b[1;32m   1444\u001b[0m     \u001b[0;32mdef\u001b[0m \u001b[0mclose\u001b[0m\u001b[0;34m(\u001b[0m\u001b[0mself\u001b[0m\u001b[0;34m)\u001b[0m \u001b[0;34m->\u001b[0m \u001b[0;32mNone\u001b[0m\u001b[0;34m:\u001b[0m\u001b[0;34m\u001b[0m\u001b[0;34m\u001b[0m\u001b[0m\n",
            "\u001b[0;32m/usr/local/lib/python3.10/dist-packages/pandas/io/parsers/readers.py\u001b[0m in \u001b[0;36m_make_engine\u001b[0;34m(self, f, engine)\u001b[0m\n\u001b[1;32m   1733\u001b[0m                 \u001b[0;32mif\u001b[0m \u001b[0;34m\"b\"\u001b[0m \u001b[0;32mnot\u001b[0m \u001b[0;32min\u001b[0m \u001b[0mmode\u001b[0m\u001b[0;34m:\u001b[0m\u001b[0;34m\u001b[0m\u001b[0;34m\u001b[0m\u001b[0m\n\u001b[1;32m   1734\u001b[0m                     \u001b[0mmode\u001b[0m \u001b[0;34m+=\u001b[0m \u001b[0;34m\"b\"\u001b[0m\u001b[0;34m\u001b[0m\u001b[0;34m\u001b[0m\u001b[0m\n\u001b[0;32m-> 1735\u001b[0;31m             self.handles = get_handle(\n\u001b[0m\u001b[1;32m   1736\u001b[0m                 \u001b[0mf\u001b[0m\u001b[0;34m,\u001b[0m\u001b[0;34m\u001b[0m\u001b[0;34m\u001b[0m\u001b[0m\n\u001b[1;32m   1737\u001b[0m                 \u001b[0mmode\u001b[0m\u001b[0;34m,\u001b[0m\u001b[0;34m\u001b[0m\u001b[0;34m\u001b[0m\u001b[0m\n",
            "\u001b[0;32m/usr/local/lib/python3.10/dist-packages/pandas/io/common.py\u001b[0m in \u001b[0;36mget_handle\u001b[0;34m(path_or_buf, mode, encoding, compression, memory_map, is_text, errors, storage_options)\u001b[0m\n\u001b[1;32m    854\u001b[0m         \u001b[0;32mif\u001b[0m \u001b[0mioargs\u001b[0m\u001b[0;34m.\u001b[0m\u001b[0mencoding\u001b[0m \u001b[0;32mand\u001b[0m \u001b[0;34m\"b\"\u001b[0m \u001b[0;32mnot\u001b[0m \u001b[0;32min\u001b[0m \u001b[0mioargs\u001b[0m\u001b[0;34m.\u001b[0m\u001b[0mmode\u001b[0m\u001b[0;34m:\u001b[0m\u001b[0;34m\u001b[0m\u001b[0;34m\u001b[0m\u001b[0m\n\u001b[1;32m    855\u001b[0m             \u001b[0;31m# Encoding\u001b[0m\u001b[0;34m\u001b[0m\u001b[0;34m\u001b[0m\u001b[0m\n\u001b[0;32m--> 856\u001b[0;31m             handle = open(\n\u001b[0m\u001b[1;32m    857\u001b[0m                 \u001b[0mhandle\u001b[0m\u001b[0;34m,\u001b[0m\u001b[0;34m\u001b[0m\u001b[0;34m\u001b[0m\u001b[0m\n\u001b[1;32m    858\u001b[0m                 \u001b[0mioargs\u001b[0m\u001b[0;34m.\u001b[0m\u001b[0mmode\u001b[0m\u001b[0;34m,\u001b[0m\u001b[0;34m\u001b[0m\u001b[0;34m\u001b[0m\u001b[0m\n",
            "\u001b[0;31mFileNotFoundError\u001b[0m: [Errno 2] No such file or directory: 'data/ml-assessment-dataset.csv'"
          ]
        }
      ],
      "source": [
        "import pandas as pd\n",
        "\n",
        "\n",
        "\n",
        "# a hardcoded dictionary\n",
        "\n",
        "data = {\n",
        "\n",
        "'apples': [3,2,0,1],\n",
        "'oranges': [0,3,7,2]\n",
        "\n",
        "}\n",
        "\n",
        "\n",
        "\n",
        "# load into a DataFrame\n",
        "\n",
        "purchases_dataframe = pd.DataFrame(data)\n",
        "\n",
        "purchases_dataframe # will print in Juypter notebook with nice formatting (but only when the last line in the cell)\n",
        "\n",
        "dataset = pd.read_csv('data/ml-assessment-dataset.csv')\n",
        "\n",
        "dataset.head() # displays the header and top half of the dataset\n"
      ]
    },
    {
      "cell_type": "markdown",
      "metadata": {
        "id": "44DgiXZ5qXwv"
      },
      "source": [
        "## Matplotlib"
      ]
    },
    {
      "cell_type": "code",
      "execution_count": null,
      "metadata": {
        "id": "7je7LjpwqXww"
      },
      "outputs": [],
      "source": []
    },
    {
      "cell_type": "markdown",
      "metadata": {
        "id": "z4EI76XFqXww"
      },
      "source": [
        "## Exploratory Data Analysis\n",
        "\n",
        "Some of the cells below already got code doing things for you.\n",
        "\n",
        "Some cells are empty for you to do _stuff_ in to **answer questions**!\n",
        "\n",
        "See lab task notes for the list of questions if you want to see them all in one place."
      ]
    },
    {
      "cell_type": "markdown",
      "metadata": {
        "id": "vH78B3QSqXww"
      },
      "source": [
        "### Loading the dataset\n",
        "\n",
        "First, we load the dataset, then we can execute various functions to explore the data, calculate statistics and plot graphs."
      ]
    },
    {
      "cell_type": "code",
      "execution_count": null,
      "metadata": {
        "ExecuteTime": {
          "end_time": "2021-10-04T15:00:04.732125Z",
          "start_time": "2021-10-04T15:00:04.334215Z"
        },
        "id": "FtMybpjUqXww"
      },
      "outputs": [],
      "source": [
        "import pandas as pd\n",
        "\n",
        "dataset = pd.read_csv('data/ml-assessment-dataset.csv')\n",
        "dataset.head()"
      ]
    },
    {
      "cell_type": "markdown",
      "metadata": {
        "id": "0rYteIMTqXwx"
      },
      "source": [
        "### Exploring the dataset\n",
        "\n",
        "The overall aim for the data exploration here is to get a feel for some of the influences on the machine learning marks for past students.\n",
        "\n",
        "Let's focus on two features for this:\n",
        " * Class (1 = pass, 0 = fail)\n",
        " * Total mark (the total unit mark, range 0-100)\n",
        " * L4 mean mark (to mean mark across all 6 level 4 units)"
      ]
    },
    {
      "cell_type": "markdown",
      "metadata": {
        "id": "YprXjgNZqXwx"
      },
      "source": [
        "#### General information\n",
        "\n",
        "Questions to answer:\n",
        "* How many instances are there in the dataset?\n",
        "* What is the mean mark (total), including non-submissions?"
      ]
    },
    {
      "cell_type": "code",
      "execution_count": null,
      "metadata": {
        "ExecuteTime": {
          "end_time": "2021-10-04T15:00:04.735467Z",
          "start_time": "2021-10-04T15:00:04.733846Z"
        },
        "id": "wDOnZGERqXwx"
      },
      "outputs": [],
      "source": [
        "# TODO: answer the two questions with the following functions\n",
        "# .info()\n",
        "# .describe()\n",
        "\n"
      ]
    },
    {
      "cell_type": "markdown",
      "metadata": {
        "id": "TaaIkOa6qXwx"
      },
      "source": [
        "#### Class (pass/fail) analysis\n",
        "\n",
        "Questions to answer:\n",
        "* Is the class balance equal?\n",
        "* Which class is the MOST represented in the dataset?\n",
        "* How many students passed?"
      ]
    },
    {
      "cell_type": "code",
      "execution_count": null,
      "metadata": {
        "ExecuteTime": {
          "end_time": "2021-10-04T15:00:04.739764Z",
          "start_time": "2021-10-04T15:00:04.737571Z"
        },
        "id": "wLsW1TYVqXwx"
      },
      "outputs": [],
      "source": [
        "# TODO: NUMERIC OUTPUT FOR CLASS BALANCE (NUMBER OF VALUES/INSTANCES FOR EACH CLASS)\n"
      ]
    },
    {
      "cell_type": "code",
      "execution_count": null,
      "metadata": {
        "ExecuteTime": {
          "end_time": "2021-10-04T15:00:04.743469Z",
          "start_time": "2021-10-04T15:00:04.741988Z"
        },
        "id": "0Kxo6nQHqXwy"
      },
      "outputs": [],
      "source": [
        "# TODO: CHART FOR CLASS DISTRIBUTION\n"
      ]
    },
    {
      "cell_type": "markdown",
      "metadata": {
        "id": "k2tE2Xu5qXwy"
      },
      "source": [
        "#### Mark analysis\n",
        "\n",
        "Questions to answer:\n",
        "\n",
        "* What is the mean mark (total), including non-submissions?\n",
        "* What is the mean mark (total), excluding non-submissions?\n",
        "* What is the mean level 4 mark for the students who passed?\n",
        "* What is the mean level 4 mark for the students who failed?"
      ]
    },
    {
      "cell_type": "code",
      "execution_count": null,
      "metadata": {
        "id": "dsUi1QiJqXwy"
      },
      "outputs": [],
      "source": [
        "# To get the mean of a specific feature/column, you can use this format:\n",
        "#   dataset['COLUMN_NAME'].mean()\n",
        "\n"
      ]
    },
    {
      "cell_type": "code",
      "execution_count": null,
      "metadata": {
        "ExecuteTime": {
          "end_time": "2021-10-04T15:00:04.881199Z",
          "start_time": "2021-10-04T15:00:04.748755Z"
        },
        "id": "KP8oFn45qXwy"
      },
      "outputs": [],
      "source": [
        "# Have a go at using one of these functions for the first 2 questions\n",
        "#\n",
        "#    dataset['COLUMN_NAME_FOR_THE_VALUES_YOU_WANT'][dataset['COLUMN_NAME_TO_FILTER_BY'] == FILTER_VALUE_YOU_WANT].mean()\n",
        "#    dataset.groupby('COLUMN_NAME_TO_GROUP_BY')['COLUMN_NAME_FOR_THE_VALUES_YOU_WANT'].mean()\n",
        "#\n",
        "# For example, the following would print out the mean age of ANYBODY (female and male) without heart diseas\n",
        "#\n",
        "#    print(dataset['Total mark'][dataset['Class'] == 0].mean())\n",
        "#    print(dataset.groupby('Class')['Total mark'].mean())\n",
        "#\n",
        "# In the examples above, you want to find out the mean ages for genders, not the class (for the first 2 questions)\n",
        "# Remember, column names are case sensitive\n",
        "\n",
        "# TODO: Mean mark for those submitted (excluding non-submissions)\n",
        "\n",
        "\n",
        "\n",
        "# TODO: Mean level 4 mark for those students who passed vs failed\n",
        "\n"
      ]
    },
    {
      "cell_type": "markdown",
      "metadata": {
        "id": "ipsZYHDFqXwy"
      },
      "source": [
        "## Analysis of Anscombe's Quartet\n",
        "\n",
        "There are many ways you can play around with the data and have a look at it, e.g.,\n",
        "\n",
        "1. a hardcoded approach using numpy and matplotlib\n",
        "2. an approach using pandas and reading directly from Excel\n",
        "\n",
        "The example code below uses option 1 just to keep it simpler here."
      ]
    },
    {
      "cell_type": "code",
      "execution_count": null,
      "metadata": {
        "ExecuteTime": {
          "end_time": "2021-10-04T15:00:04.886337Z",
          "start_time": "2021-10-04T15:00:04.348Z"
        },
        "id": "KbpH_Sd_qXwy"
      },
      "outputs": [],
      "source": [
        "import numpy as np\n",
        "from scipy import stats\n",
        "from numpy.polynomial.polynomial import polyfit\n",
        "import matplotlib.pyplot as plt\n",
        "\n",
        "# Anscombe's 1st dataset\n",
        "x1 = np.array([10, 8, 13, 9, 11, 14, 6, 4, 12, 7, 5])\n",
        "y1 = np.array([8.04, 6.95, 7.58, 8.81, 8.33, 9.96, 7.24, 4.26, 10.84, 4.82, 5.68])\n",
        "\n",
        "# Anscombe's 2nd dataset\n",
        "x2 = np.array([10, 8, 13, 9, 11, 14, 6, 4, 12, 7, 5])\n",
        "y2 = np.array([9.14, 8.14, 8.74, 8.77, 9.26, 8.1, 6.13, 3.1, 9.13, 7.26, 4.74])\n",
        "\n",
        "# TODO: Anscombe's 3rd dataset\n",
        "\n",
        "\n",
        "# TODO: Anscombe's 4th dataset\n",
        "\n"
      ]
    },
    {
      "cell_type": "markdown",
      "metadata": {
        "id": "2_ICW141qXwy"
      },
      "source": [
        "### Print out the stats\n",
        "\n",
        "* mean\n",
        "* median\n",
        "* mode\n",
        "* variance\n",
        "* standard deviation"
      ]
    },
    {
      "cell_type": "code",
      "execution_count": null,
      "metadata": {
        "ExecuteTime": {
          "end_time": "2021-10-04T15:00:04.887267Z",
          "start_time": "2021-10-04T15:00:04.351Z"
        },
        "id": "QLzsDc3MqXwy"
      },
      "outputs": [],
      "source": [
        "print(\"Anscombe stats\\n\")\n",
        "# TODO (using Numpy and SciPy)\n",
        "\n"
      ]
    },
    {
      "cell_type": "markdown",
      "metadata": {
        "id": "tMHT6ZpNqXwz"
      },
      "source": [
        "### Plot regression lines\n",
        "\n",
        "This is more challenging, but you can use the following code as the basis for:\n",
        "\n",
        "* Calculate/create regression lines for the 3rd and 4th datasets (that you added above)\n",
        "* Change the subplot configuration to a 2 x 2 grid (currently 1 x 2)\n",
        "* Plot the 3rd and 4th datasets (as subplots with the 1st and 2nd datasets)\n",
        "\n",
        "**REFLECT** on the stats above and what you see in the images."
      ]
    },
    {
      "cell_type": "code",
      "execution_count": null,
      "metadata": {
        "ExecuteTime": {
          "end_time": "2021-10-04T15:00:04.888470Z",
          "start_time": "2021-10-04T15:00:04.353Z"
        },
        "id": "OfgL1r6qqXwz"
      },
      "outputs": [],
      "source": [
        "# Linear regression lines\n",
        "b1, m1 = polyfit(x1, y1, 1)\n",
        "b2, m2 = polyfit(x2, y2, 1)\n",
        "\n",
        "# Setting up figure with two sub-plots\n",
        "fig, axs = plt.subplots(1, 2, figsize=(16, 6), sharey=True)\n",
        "fig.suptitle(\"Anscombe's Quartet\")\n",
        "\n",
        "# Adding figure for Ans-1\n",
        "axs[0].plot(x1, y1, '.')\n",
        "axs[0].plot(x1, b1 + m1 * x1, '-')\n",
        "axs[0].set_xlabel('x')\n",
        "axs[0].set_ylabel('y')\n",
        "\n",
        "# Adding figure for Ans-2\n",
        "axs[1].plot(x2, y2, '.')\n",
        "axs[1].plot(x2, b2 + m2 * x2, '-')\n",
        "axs[0].set_xlabel('x')\n",
        "axs[0].set_ylabel('y')"
      ]
    },
    {
      "cell_type": "code",
      "execution_count": null,
      "metadata": {
        "id": "S3mDKu9PqXwz"
      },
      "outputs": [],
      "source": []
    }
  ],
  "metadata": {
    "kernelspec": {
      "display_name": "Python 3 (ipykernel)",
      "language": "python",
      "name": "python3"
    },
    "language_info": {
      "codemirror_mode": {
        "name": "ipython",
        "version": 3
      },
      "file_extension": ".py",
      "mimetype": "text/x-python",
      "name": "python",
      "nbconvert_exporter": "python",
      "pygments_lexer": "ipython3",
      "version": "3.11.1"
    },
    "toc": {
      "base_numbering": 1,
      "nav_menu": {},
      "number_sections": true,
      "sideBar": true,
      "skip_h1_title": false,
      "title_cell": "Table of Contents",
      "title_sidebar": "Contents",
      "toc_cell": false,
      "toc_position": {},
      "toc_section_display": true,
      "toc_window_display": true
    },
    "varInspector": {
      "cols": {
        "lenName": 16,
        "lenType": 16,
        "lenVar": 40
      },
      "kernels_config": {
        "python": {
          "delete_cmd_postfix": "",
          "delete_cmd_prefix": "del ",
          "library": "var_list.py",
          "varRefreshCmd": "print(var_dic_list())"
        },
        "r": {
          "delete_cmd_postfix": ") ",
          "delete_cmd_prefix": "rm(",
          "library": "var_list.r",
          "varRefreshCmd": "cat(var_dic_list()) "
        }
      },
      "types_to_exclude": [
        "module",
        "function",
        "builtin_function_or_method",
        "instance",
        "_Feature"
      ],
      "window_display": false
    },
    "colab": {
      "provenance": [],
      "collapsed_sections": [
        "poczVKchqXwt"
      ],
      "include_colab_link": true
    }
  },
  "nbformat": 4,
  "nbformat_minor": 0
}